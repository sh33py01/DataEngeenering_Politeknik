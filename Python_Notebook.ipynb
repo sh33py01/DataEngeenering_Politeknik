{
 "cells": [
  {
   "cell_type": "code",
   "execution_count": null,
   "metadata": {},
   "outputs": [],
   "source": [
    "import pandas as pd\n",
    "\n",
    "# Load datasets\n",
    "imdb_df = pd.read_csv('IMDB_movies_archive1.csv', \n",
    "                                            usecols=['imdb_title_id','title_x', 'year_x', 'genre_x', 'avg_vote_x', 'country_x','reviews_from_users_x','reviews_from_critics_x','votes_x','director_x',])\n",
    "merged_data_df = pd.read_csv('merged_data.csv', usecols=['movie', 'rating'])\n",
    "netflix_df = pd.read_csv('Netflix_movies_archive2.csv', usecols=['MovieTitle', 'Rating'])"
   ]
  },
  {
   "cell_type": "code",
   "execution_count": null,
   "metadata": {},
   "outputs": [],
   "source": [
    "# Rename 'MovieTitle' to 'title' in the Netflix dataset\n",
    "netflix_df.rename(columns={'MovieTitle': 'title'}, inplace=True)\n",
    "imdb_df.rename(columns={'title_x': 'title', 'avg_vote_x': 'avg_rating_imdb'}, inplace=True)\n",
    "merged_data_df.rename(columns={'movie': 'title'}, inplace=True)\n"
   ]
  },
  {
   "cell_type": "code",
   "execution_count": null,
   "metadata": {},
   "outputs": [],
   "source": [
    "# Normalize ratings\n",
    "imdb_df['avg_vote_x'] = imdb_df['avg_vote_x'] / 2\n",
    "merged_data_df['rating'] = merged_data_df['rating'] / 2\n",
    "\n",
    "# Group by 'title' and calculate the average rating for Netflix dataset\n",
    "netflix_avg_rating = netflix_df.groupby('title')['Rating'].mean().reset_index()\n",
    "netflix_avg_rating.rename(columns={'title': 'title', 'Rating': 'avg_rating_netflix'}, inplace=True)"
   ]
  },
  {
   "cell_type": "code",
   "execution_count": null,
   "metadata": {},
   "outputs": [],
   "source": [
    "# Merge datasets using 'title' as the key\n",
    "combined_df = pd.merge(netflix_avg_rating, imdb_df, on='title', how='outer')\n",
    "combined_df = pd.merge(combined_df, merged_data_df, on='title', how='outer')"
   ]
  },
  {
   "cell_type": "code",
   "execution_count": null,
   "metadata": {},
   "outputs": [],
   "source": [
    "# Handling missing values for categorical columns\n",
    "categorical_columns = combined_df.select_dtypes(include=['category']).columns\n",
    "for col in categorical_columns:\n",
    "    combined_df[col] = combined_df[col].cat.add_categories('Unknown').fillna('Unknown')"
   ]
  },
  {
   "cell_type": "code",
   "execution_count": null,
   "metadata": {},
   "outputs": [],
   "source": [
    "# Handling missing values for numeric columns\n",
    "numeric_columns = ['avg_rating_netflix', 'avg_rating_imdb', 'rating']\n",
    "for col in numeric_columns:\n",
    "    if col in combined_df.columns:\n",
    "        combined_df[col].fillna(combined_df[col].mean(), inplace=True)"
   ]
  },
  {
   "cell_type": "code",
   "execution_count": null,
   "metadata": {},
   "outputs": [],
   "source": [
    "\n",
    "# Calculating the overall average rating\n",
    "combined_df['average_rating'] = combined_df[numeric_columns].mean(axis=1)\n",
    "\n",
    "# Removing duplicates based on 'title' and 'imdb_title_id'\n",
    "combined_df.drop_duplicates(subset=['title', 'imdb_title_id'], inplace=True)"
   ]
  },
  {
   "cell_type": "code",
   "execution_count": null,
   "metadata": {},
   "outputs": [],
   "source": [
    "# Saving the final dataset\n",
    "cleaned_merged_dataset_path = 'cleaned_merged_dataset_optimized_finale.csv'\n",
    "combined_df.to_csv(cleaned_merged_dataset_path, index=False)\n",
    "\n",
    "print(\"Cleaned and merged dataset saved to:\", cleaned_merged_dataset_path)"
   ]
  }
 ],
 "metadata": {
  "language_info": {
   "name": "python"
  }
 },
 "nbformat": 4,
 "nbformat_minor": 2
}
