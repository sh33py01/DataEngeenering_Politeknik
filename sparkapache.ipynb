{
 "cells": [
  {
   "cell_type": "code",
   "execution_count": null,
   "metadata": {},
   "outputs": [],
   "source": [
    "#Reading Data\n",
    "from pyspark.sql import SparkSession\n",
    "\n",
    "spark = SparkSession.builder.appName('your_app_name').getOrCreate()\n",
    "\n",
    "imdb_df = spark.read.csv('IMDB_movies_archive1.csv', header=True, inferSchema=True)\n",
    "merged_data_df = spark.read.csv('merged_data.csv', header=True, inferSchema=True)\n",
    "netflix_df = spark.read.csv('Netflix_movies_archive2.csv', header=True, inferSchema=True)"
   ]
  },
  {
   "cell_type": "code",
   "execution_count": null,
   "metadata": {},
   "outputs": [],
   "source": [
    "# Rename columns\n",
    "netflix_df = netflix_df.withColumnRenamed('MovieTitle', 'title')\n",
    "imdb_df = imdb_df.withColumnRenamed('title_x', 'title').withColumnRenamed('avg_vote_x', 'avg_vote')\n",
    "merged_data_df = merged_data_df.withColumnRenamed('movie', 'title')"
   ]
  },
  {
   "cell_type": "code",
   "execution_count": null,
   "metadata": {},
   "outputs": [],
   "source": [
    "# Normalize ratings\n",
    "imdb_df = imdb_df.withColumn('avg_vote', col('avg_vote') / 2)\n",
    "merged_data_df = merged_data_df.withColumn('rating', col('rating') / 2)"
   ]
  },
  {
   "cell_type": "code",
   "execution_count": null,
   "metadata": {},
   "outputs": [],
   "source": [
    "# Group by 'title' and calculate the average rating for Netflix dataset\n",
    "netflix_avg_rating = netflix_df.groupBy('title').agg(mean('Rating').alias('avg_rating_netflix'))\n"
   ]
  },
  {
   "cell_type": "code",
   "execution_count": null,
   "metadata": {},
   "outputs": [],
   "source": [
    "# Merge datasets using 'title' as the key\n",
    "combined_df = netflix_avg_rating.join(imdb_df, 'title', 'outer')\n",
    "combined_df = combined_df.join(merged_data_df, 'title', 'outer')"
   ]
  },
  {
   "cell_type": "code",
   "execution_count": null,
   "metadata": {},
   "outputs": [],
   "source": [
    "# Handling missing values for numeric columns\n",
    "numeric_columns = ['avg_rating_netflix', 'avg_vote', 'rating']\n",
    "for col_name in numeric_columns:\n",
    "    combined_df = combined_df.na.fill(combined_df.select(mean(col_name)).collect()[0][0], subset=[col_name])\n"
   ]
  },
  {
   "cell_type": "code",
   "execution_count": null,
   "metadata": {},
   "outputs": [],
   "source": [
    "# Calculating the overall average rating\n",
    "combined_df = combined_df.withColumn('average_rating', (col('avg_rating_netflix') + col('avg_vote') + col('rating')) / len(numeric_columns))\n"
   ]
  },
  {
   "cell_type": "code",
   "execution_count": null,
   "metadata": {},
   "outputs": [],
   "source": [
    "# Removing duplicates based on 'title' and 'imdb_title_id'\n",
    "combined_df = combined_df.dropDuplicates(['title', 'imdb_title_id'])\n"
   ]
  },
  {
   "cell_type": "code",
   "execution_count": null,
   "metadata": {},
   "outputs": [],
   "source": [
    "# Saving the final dataset\n",
    "cleaned_merged_dataset_path = 'cleaned_merged_dataset_optimized_finale.csv'\n",
    "combined_df.write.csv(cleaned_merged_dataset_path, header=True)\n",
    "\n",
    "print(\"Cleaned and merged dataset saved to:\", cleaned_merged_dataset_path)"
   ]
  }
 ],
 "metadata": {
  "language_info": {
   "name": "python"
  }
 },
 "nbformat": 4,
 "nbformat_minor": 2
}
